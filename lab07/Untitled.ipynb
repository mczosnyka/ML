{
 "cells": [
  {
   "cell_type": "code",
   "execution_count": 1,
   "id": "14bed7ce-bfdb-405b-972c-2f42d822e095",
   "metadata": {},
   "outputs": [],
   "source": [
    "from sklearn.datasets import fetch_openml\n",
    "import numpy as np\n",
    "\n",
    "mnist = fetch_openml('mnist_784', version=1, as_frame=False, parser='auto')\n",
    "mnist.target = mnist.target.astype(np.uint8)\n",
    "X = mnist['data']\n",
    "y = mnist['target']"
   ]
  },
  {
   "cell_type": "code",
   "execution_count": 2,
   "id": "77ad9898-3eb8-407e-bc6a-97fbce1e5da9",
   "metadata": {},
   "outputs": [
    {
     "name": "stdout",
     "output_type": "stream",
     "text": [
      "[[0 0 0 ... 0 0 0]\n",
      " [0 0 0 ... 0 0 0]\n",
      " [0 0 0 ... 0 0 0]\n",
      " ...\n",
      " [0 0 0 ... 0 0 0]\n",
      " [0 0 0 ... 0 0 0]\n",
      " [0 0 0 ... 0 0 0]]\n"
     ]
    }
   ],
   "source": [
    "print(X)"
   ]
  },
  {
   "cell_type": "code",
   "execution_count": 3,
   "id": "517f0b56-bf21-4141-b194-b24b1c62ed50",
   "metadata": {},
   "outputs": [
    {
     "name": "stdout",
     "output_type": "stream",
     "text": [
      "[0.07337977998298922, 0.05681625379289227, 0.0586915389505002, 0.05835878745275728, 0.05817356340885259]\n"
     ]
    }
   ],
   "source": [
    "from sklearn.cluster import KMeans\n",
    "from sklearn.metrics import silhouette_score\n",
    "sil_scores = []\n",
    "lista = []\n",
    "\n",
    "for i in range(8,13):\n",
    "    kmeans = KMeans(n_clusters = i, random_state = 42, n_init = 10)\n",
    "    y_pred = kmeans.fit_predict(X)\n",
    "    lista.append([kmeans, y_pred])\n",
    "    sil_scores.append(silhouette_score(X, y_pred))\n",
    "\n",
    "print(sil_scores)"
   ]
  },
  {
   "cell_type": "code",
   "execution_count": 4,
   "id": "e152374f-ef5c-4b0c-bc42-9f0aa46a27df",
   "metadata": {},
   "outputs": [],
   "source": [
    "import pickle\n",
    "with open('kmeans_sil.pkl', 'wb') as f:\n",
    "    pickle.dump(sil_scores, f)"
   ]
  },
  {
   "cell_type": "code",
   "execution_count": 5,
   "id": "2334ca01-2c63-4d91-8f09-52fd8e89a685",
   "metadata": {},
   "outputs": [],
   "source": [
    "from sklearn.metrics import confusion_matrix"
   ]
  },
  {
   "cell_type": "code",
   "execution_count": 6,
   "id": "7df048ea-8947-4cfb-a5ad-c3c5b9969712",
   "metadata": {},
   "outputs": [
    {
     "name": "stdout",
     "output_type": "stream",
     "text": [
      "{0, 1, 2, 3, 5, 6, 8, 9}\n"
     ]
    }
   ],
   "source": [
    "predictions = []\n",
    "for k in lista:\n",
    "    predictions.append(k[1])\n",
    "\n",
    "cm = confusion_matrix(y, predictions[2])\n",
    "sett = set()\n",
    "for row in cm:\n",
    "    sett.add(np.argmax(row))\n",
    "\n",
    "print(sett)\n",
    "with open('kmeans_argmax.pkl', 'wb') as f:\n",
    "    pickle.dump(list(sett), f)"
   ]
  },
  {
   "cell_type": "code",
   "execution_count": 7,
   "id": "9fa73207-1bbb-4289-be84-3dc8f8846623",
   "metadata": {},
   "outputs": [],
   "source": [
    "lengths = []\n",
    "for p in range(300):\n",
    "    for point in X: \n",
    "        lng = np.linalg.norm(X[p] - point)\n",
    "        if lng!=0:\n",
    "            lengths.append(lng)\n",
    "\n",
    "lengths.sort()\n",
    "\n",
    "    "
   ]
  },
  {
   "cell_type": "code",
   "execution_count": 8,
   "id": "71f486d2-f618-4c74-b36f-dfd5ca51cd9e",
   "metadata": {},
   "outputs": [
    {
     "name": "stdout",
     "output_type": "stream",
     "text": [
      "[279.26152617215286, 304.37641170103836, 317.5893575043093, 328.7658741414626, 333.4546445920344, 352.89800226127664, 355.1774204534967, 358.07401469528617, 359.64287842247063, 360.42474942767177]\n"
     ]
    }
   ],
   "source": [
    "pickler = lengths[:10]\n",
    "print(pickler)"
   ]
  },
  {
   "cell_type": "code",
   "execution_count": 9,
   "id": "dcc32695-a483-42dd-bb44-66f2e6a8a573",
   "metadata": {},
   "outputs": [],
   "source": [
    "with open('dist.pkl', 'wb') as f:\n",
    "    pickle.dump(pickler, f)"
   ]
  },
  {
   "cell_type": "code",
   "execution_count": 14,
   "id": "062ae2bd-28a6-4fe1-9ae5-89c656f4c467",
   "metadata": {},
   "outputs": [
    {
     "name": "stdout",
     "output_type": "stream",
     "text": [
      "300.40909845916684\n"
     ]
    }
   ],
   "source": [
    "s = (pickler[0]+pickler[1]+pickler[2])/3\n",
    "print(s)"
   ]
  },
  {
   "cell_type": "code",
   "execution_count": 28,
   "id": "3c7ed483-9188-4962-b9fe-ffeb0f10e49c",
   "metadata": {},
   "outputs": [
    {
     "name": "stdout",
     "output_type": "stream",
     "text": [
      "DBSCAN(eps=300.40909845916684)\n",
      "[-1 -1 -1 ... -1 -1 -1]\n",
      "300.40909845916684\n",
      "DBSCAN(eps=312.4254623975335)\n",
      "[-1 -1 -1 ... -1 -1 -1]\n",
      "312.4254623975335\n",
      "DBSCAN(eps=324.4418263359002)\n",
      "[-1 -1 -1 ... -1 -1 -1]\n",
      "324.4418263359002\n"
     ]
    }
   ],
   "source": [
    "from sklearn.cluster import DBSCAN\n",
    "unique_labels = []\n",
    "for ep in np.arange(s, s+0.1*s, 0.04*s):\n",
    "    dbscan = DBSCAN(eps=ep)\n",
    "    dbscan.fit(X)\n",
    "    print(dbscan)\n",
    "    print(dbscan.labels_)\n",
    "    print(ep)\n",
    "    unique_labels.append(np.unique(dbscan.labels_[dbscan.labels_ != -1]))"
   ]
  },
  {
   "cell_type": "code",
   "execution_count": 31,
   "id": "6a3db785-1470-4254-bd33-8ca560741420",
   "metadata": {},
   "outputs": [
    {
     "name": "stdout",
     "output_type": "stream",
     "text": [
      "[4, 7, 22]\n"
     ]
    }
   ],
   "source": [
    "unique_numbers = []\n",
    "unique_numbers.append(len(unique_labels[0])+1)\n",
    "unique_numbers.append(len(unique_labels[1])+1)\n",
    "unique_numbers.append(len(unique_labels[2])+1)\n",
    "print(unique_numbers)\n",
    "with open('dbscan_len.pkl', 'wb') as f:\n",
    "    pickle.dump(unique_numbers, f)"
   ]
  },
  {
   "cell_type": "code",
   "execution_count": 36,
   "id": "3218cdfe-47d8-4c15-86b0-094b2c336fbe",
   "metadata": {},
   "outputs": [
    {
     "name": "stdout",
     "output_type": "stream",
     "text": [
      "[0.07337977998298922, 0.05681625379289227, 0.0586915389505002, 0.05835878745275728, 0.05817356340885259]\n"
     ]
    }
   ],
   "source": [
    "with open('kmeans_sil.pkl', 'rb') as f:\n",
    "    # Load the object from the file\n",
    "    my_list = pickle.load(f)\n",
    "\n",
    "\n",
    "print(my_list)"
   ]
  },
  {
   "cell_type": "code",
   "execution_count": null,
   "id": "c047f226-651c-4a7c-b39d-c95b6f92dc33",
   "metadata": {},
   "outputs": [],
   "source": []
  }
 ],
 "metadata": {
  "kernelspec": {
   "display_name": "Python 3 (ipykernel)",
   "language": "python",
   "name": "python3"
  },
  "language_info": {
   "codemirror_mode": {
    "name": "ipython",
    "version": 3
   },
   "file_extension": ".py",
   "mimetype": "text/x-python",
   "name": "python",
   "nbconvert_exporter": "python",
   "pygments_lexer": "ipython3",
   "version": "3.10.13"
  }
 },
 "nbformat": 4,
 "nbformat_minor": 5
}
